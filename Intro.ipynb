{
 "cells": [
  {
   "cell_type": "markdown",
   "metadata": {
    "slideshow": {
     "slide_type": "slide"
    }
   },
   "source": [
    "# In a nutshell\n",
    "\n",
    "The Jupyter Notebook is an open-source web application that allows you to create and share documents that integrate **live code**, equations, **computational output**, **visualizations**, and other multimedia resources, along with explanatory text in a single document.\n",
    "\n",
    "Jupyter was originally conceived for data analysts and data scientists, but can also be a great tool for **DevOps.**\n",
    "\n",
    "## This intro is intended for ___DevOps___\n",
    "\n",
    "Some reading materials\n",
    "\n",
    "[why-you-should-be-using-jupyter-notebooks](https://medium.com/@ODSC/why-you-should-be-using-jupyter-notebooks-ea2e568c59f2)\n",
    "    \n",
    "En FR\n",
    "[introduction-aux-carnets-jupyter-notebooks](https://programminghistorian.org/fr/lecons/introduction-aux-carnets-jupyter-notebooks)\n",
    "[vidéo orientées chimie](https://www.youtube.com/watch?v=6YBsHr10qjc&ab_channel=Physique-ChimieDIANA)"
   ]
  },
  {
   "cell_type": "code",
   "execution_count": 19,
   "metadata": {
    "slideshow": {
     "slide_type": "slide"
    }
   },
   "outputs": [
    {
     "name": "stdout",
     "output_type": "stream",
     "text": [
      "2021-11-04 14:23:44.810423\n"
     ]
    }
   ],
   "source": [
    "# this is a cell in jupyter you can write valid python code here\n",
    "\n",
    "# to execute the cell, press CTRL+RETURN\n",
    "# to execute the cell and move to the next cell, press SHIFT+RETURN\n",
    "\n",
    "import datetime \n",
    "\n",
    "print(datetime.datetime.now())"
   ]
  },
  {
   "cell_type": "code",
   "execution_count": 14,
   "metadata": {
    "slideshow": {
     "slide_type": "slide"
    }
   },
   "outputs": [],
   "source": [
    "# variables assigned in previous cells ...\n",
    "a = 1\n",
    "b = [1,2,3,4]\n",
    "c = (4,5,6)"
   ]
  },
  {
   "cell_type": "code",
   "execution_count": 13,
   "metadata": {
    "slideshow": {
     "slide_type": "fragment"
    }
   },
   "outputs": [
    {
     "name": "stdout",
     "output_type": "stream",
     "text": [
      "2 [1, 2, 3, 4] (4, 5, 6)\n",
      "...and now a=2\n"
     ]
    }
   ],
   "source": [
    "# ...persist in subsequent ones\n",
    "\n",
    "print(a, b, c)\n",
    "a = 2\n",
    "\n",
    "print(\"...and now a={}\".format(a))"
   ]
  },
  {
   "cell_type": "markdown",
   "metadata": {
    "slideshow": {
     "slide_type": "fragment"
    }
   },
   "source": [
    "### being able to interactively rerun, test, and modify code on the fly is what jupyter is all about"
   ]
  },
  {
   "cell_type": "code",
   "execution_count": 33,
   "metadata": {
    "slideshow": {
     "slide_type": "slide"
    }
   },
   "outputs": [
    {
     "name": "stdout",
     "output_type": "stream",
     "text": [
      "bin\n",
      "bk-0002.jpg\n",
      "Calibre Library\n",
      "Desktop\n",
      "Documents\n"
     ]
    }
   ],
   "source": [
    "%%sh\n",
    "\n",
    "# cells can also embed shell commands using the above %%sh magic command\n",
    "\n",
    "ls $HOME | head -n 5"
   ]
  },
  {
   "cell_type": "markdown",
   "metadata": {
    "slideshow": {
     "slide_type": "fragment"
    }
   },
   "source": [
    "### so you can imagine the endless possibilities mixing and matching.\n",
    "\n",
    "The only limit is that variables in bash cannot communicate with variables in python and vice versa.  So choose one language to perform your program logic and only use shells for special cases where it's just more convenient. "
   ]
  },
  {
   "cell_type": "markdown",
   "metadata": {
    "slideshow": {
     "slide_type": "slide"
    }
   },
   "source": [
    "## Jupyter general  architecture\n",
    "![](https://jupyter.readthedocs.io/en/latest/_images/notebook_components.png)\n",
    "https://jupyter.readthedocs.io/en/latest/projects/architecture/content-architecture.html"
   ]
  },
  {
   "cell_type": "markdown",
   "metadata": {
    "slideshow": {
     "slide_type": "fragment"
    }
   },
   "source": [
    "### Languages\n",
    "\n",
    "The kernel is the language runtime (by default it's python) but [over 100 languages are supported](https://github.com/jupyter/jupyter/wiki/Jupyter-kernels)"
   ]
  },
  {
   "cell_type": "markdown",
   "metadata": {
    "slideshow": {
     "slide_type": "fragment"
    }
   },
   "source": [
    "### Single process\n",
    "\n",
    "Jupyter runs cells ONE at a time.  The currently running cell is marked with an asterisk `[ * ]` \\\n",
    "You can interrupt the cell execution from the `Kernel` -> `Interrupt` or `Restart` menus. \\\n",
    "If you restart a kernel, the running context is reset to zero (so go back and run the notebook from the top to reinstanciate everything.)\n"
   ]
  },
  {
   "cell_type": "markdown",
   "metadata": {
    "slideshow": {
     "slide_type": "slide"
    }
   },
   "source": [
    "# Python specifics\n",
    "\n",
    "Depending on your operating system, python can come bundled with the os, or be installed using a 3rd party packaging system.  As of November 2021, the current stable verson of python is 3.9"
   ]
  },
  {
   "cell_type": "markdown",
   "metadata": {
    "slideshow": {
     "slide_type": "fragment"
    }
   },
   "source": [
    "Python has multiple **package managers** (conda, pip, eggs....).  In this example we'll be using the most common one: **pip**"
   ]
  },
  {
   "cell_type": "markdown",
   "metadata": {
    "slideshow": {
     "slide_type": "fragment"
    }
   },
   "source": [
    "There are also different ways of **isolating** your python code and dependencies: docker, python virtuals envs.  This example uses **virtuals envs.**\n",
    "\n",
    "See start.sh:\n",
    "\n",
    "\n",
    "```\n",
    "which python3                    # should point to your system python binary\n",
    "python3 -m venv venv             # this line creates a virtual env in the folder venv\n",
    "source venv/bin/activate         # this line activates the virtual env\n",
    "which python3                    # now this should point to your virtual env python (./venv/bin/python)\n",
    "pip install -r requirements.txt  # install all packages in requirements.txt in your virtual env\n",
    "```"
   ]
  },
  {
   "cell_type": "markdown",
   "metadata": {
    "slideshow": {
     "slide_type": "slide"
    }
   },
   "source": [
    "# DevOps Use cases\n",
    "\n",
    "- one-shot scripts \n",
    "- data / system migration\n",
    "- reporting / batch jobs\n",
    "- POCs\n",
    "- interactive presentations (like this one! 😁)\n",
    "\n",
    "(being able to document in the code makes it easier if you need to re-use something six months later when you've forgotten how it works)"
   ]
  },
  {
   "cell_type": "markdown",
   "metadata": {
    "slideshow": {
     "slide_type": "fragment"
    }
   },
   "source": [
    "# Anti patterns\n",
    "\n",
    "___**Don't use jupyter to write:**___\n",
    "\n",
    "- web services / APIs\n",
    "- production applications\n",
    "- programs that need multiprocessing (jupyter is single process)"
   ]
  },
  {
   "attachments": {
    "image-2.png": {
     "image/png": "[encoded data removed]"
    }
   },
   "cell_type": "markdown",
   "metadata": {
    "slideshow": {
     "slide_type": "slide"
    }
   },
   "source": [
    "# Enabling slideshows\n",
    "\n",
    "First install the RISE jupyer plugin\n",
    "\n",
    "\n",
    "`pip install RISE`\n",
    "\n",
    "When you create a new notebook, you have to do a couple of things to activate the slideshow capability\n",
    "\n",
    "* In the Edit -> Edit Notebook Metadata menu, add this to the config JSON:\n",
    "    \n",
    "```\n",
    "  \"celltoolbar\": \"Slideshow\",\n",
    "```\n",
    "\n",
    "* In the View -> Cell Toolbar, choose **Slideshow**\n",
    "\n",
    "* Cell by cell, choose between `Slide`, `Fragment` `Notes`, `Skip` etc...\n",
    "\n",
    "Once this is done, click the icon in the menu to enter slideshow mode, tada!\n",
    "\n",
    "\n",
    "![image-2.png](attachment:image-2.png)\n",
    "\n"
   ]
  },
  {
   "cell_type": "markdown",
   "metadata": {
    "slideshow": {
     "slide_type": "slide"
    }
   },
   "source": [
    "# Embedding stuff in notebooks"
   ]
  },
  {
   "cell_type": "markdown",
   "metadata": {
    "slideshow": {
     "slide_type": "fragment"
    }
   },
   "source": [
    "# Youtube videos"
   ]
  },
  {
   "cell_type": "code",
   "execution_count": 21,
   "metadata": {
    "scrolled": true,
    "slideshow": {
     "slide_type": "fragment"
    }
   },
   "outputs": [
    {
     "data": {
      "image/jpeg": "[encoded data removed]",
      "text/html": [
       "\n",
       "        <iframe\n",
       "            width=\"400\"\n",
       "            height=\"300\"\n",
       "            src=\"https://www.youtube.com/embed/v3ibuNTXYDE?start=70\"\n",
       "            frameborder=\"0\"\n",
       "            allowfullscreen\n",
       "            \n",
       "        ></iframe>\n",
       "        "
      ],
      "text/plain": [
       "<IPython.lib.display.YouTubeVideo at 0x7f8f483e7250>"
      ]
     },
     "execution_count": 21,
     "metadata": {},
     "output_type": "execute_result"
    }
   ],
   "source": [
    "from IPython.display import YouTubeVideo\n",
    "YouTubeVideo('v3ibuNTXYDE', start=70)"
   ]
  },
  {
   "cell_type": "markdown",
   "metadata": {
    "slideshow": {
     "slide_type": "slide"
    }
   },
   "source": [
    "# HTML Tables"
   ]
  },
  {
   "cell_type": "code",
   "execution_count": 1,
   "metadata": {
    "slideshow": {
     "slide_type": "fragment"
    }
   },
   "outputs": [
    {
     "data": {
      "text/html": [
       "<table>\n",
       "<tbody>\n",
       "<tr><td>Sun  </td><td style=\"text-align: right;\">696000</td><td style=\"text-align: right;\">   1.9891e+09</td></tr>\n",
       "<tr><td>Earth</td><td style=\"text-align: right;\">  6371</td><td style=\"text-align: right;\">5973.6       </td></tr>\n",
       "<tr><td>Moon </td><td style=\"text-align: right;\">  1737</td><td style=\"text-align: right;\">  73.5       </td></tr>\n",
       "<tr><td>Mars </td><td style=\"text-align: right;\">  3390</td><td style=\"text-align: right;\"> 641.85      </td></tr>\n",
       "</tbody>\n",
       "</table>"
      ],
      "text/plain": [
       "<IPython.core.display.HTML object>"
      ]
     },
     "metadata": {},
     "output_type": "display_data"
    }
   ],
   "source": [
    "# shamelessly ripped from https://stackoverflow.com/questions/35160256/how-do-i-output-lists-as-a-table-in-jupyter-notebook\n",
    "\n",
    "from IPython.display import HTML, display\n",
    "import tabulate\n",
    "table = [[\"Sun\",696000,1989100000],\n",
    "         [\"Earth\",6371,5973.6],\n",
    "         [\"Moon\",1737,73.5],\n",
    "         [\"Mars\",3390,641.85]]\n",
    "display(HTML(tabulate.tabulate(table, tablefmt='html')))"
   ]
  },
  {
   "cell_type": "markdown",
   "metadata": {
    "slideshow": {
     "slide_type": "slide"
    }
   },
   "source": [
    "# Pandas dataframes\n",
    "\n",
    "`pandas` is a powerful, commonly used Python framework for dealing with large datasets (called data frames)\n",
    "\n",
    "Check out https://www.learnpython.org/en/Pandas_Basics"
   ]
  },
  {
   "cell_type": "code",
   "execution_count": 5,
   "metadata": {
    "slideshow": {
     "slide_type": "fragment"
    }
   },
   "outputs": [
    {
     "data": {
      "application/javascript": [
       "require.config({\n",
       "    paths: {\n",
       "        datatables: 'https://cdn.datatables.net/1.10.19/js/jquery.dataTables.min',\n",
       "    }\n",
       "});\n",
       "\n",
       "$('head').append('<link rel=\"stylesheet\" type=\"text/css\" \\\n",
       "                href = \"https://cdn.datatables.net/1.10.19/css/jquery.dataTables.min.css\" > ');\n",
       "\n",
       "$('head').append('<style> table td { text-overflow: ellipsis; overflow: hidden; } </style>');\n",
       "\n",
       "$('head').append(`<script>\n",
       "function eval_functions(map_or_text) {\n",
       "    if (typeof map_or_text === \"string\") {\n",
       "        if (map_or_text.startsWith(\"function\")) {\n",
       "            try {\n",
       "                // Note: parenthesis are required around the whole expression for eval to return a value!\n",
       "                // See https://stackoverflow.com/a/7399078/911298.\n",
       "                //\n",
       "                // eval(\"local_fun = \" + map_or_text) would fail because local_fun is not declared\n",
       "                // (using var, let or const would work, but it would only be declared in the local scope\n",
       "                // and therefore the value could not be retrieved).\n",
       "                const func = eval(\"(\" + map_or_text + \")\");\n",
       "                if (typeof func !== \"function\") {\n",
       "                    // Note: backquotes are super convenient!\n",
       "                    // https://developer.mozilla.org/en-US/docs/Web/JavaScript/Reference/Template_literals\n",
       "                    console.error(\"Evaluated expression \" + map_or_text + \" is not a function (type is \" + typeof func + \")\");\n",
       "                    return map_or_text;\n",
       "                }\n",
       "                // Return the function\n",
       "                return func;\n",
       "            } catch (e) {\n",
       "                // Make sure to print the error with a second argument to console.error().\n",
       "                console.error(\"itables was not able to parse \" + map_or_text, e);\n",
       "            }\n",
       "        }\n",
       "    } else if (typeof map_or_text === \"object\") {\n",
       "        if (map_or_text instanceof Array) {\n",
       "            // Note: \"var\" is now superseded by \"let\" and \"const\".\n",
       "            // https://medium.com/javascript-scene/javascript-es6-var-let-or-const-ba58b8dcde75\n",
       "            const result = [];\n",
       "            // Note: \"for of\" is the best way to iterate through an iterable.\n",
       "            // https://developer.mozilla.org/en-US/docs/Web/JavaScript/Reference/Statements/for...of\n",
       "            for (const item of map_or_text) {\n",
       "                result.push(eval_functions(item));\n",
       "            }\n",
       "            return result;\n",
       "\n",
       "            // Alternatively, more functional approach in one line:\n",
       "            // return map_or_text.map(eval_functions);\n",
       "        } else {\n",
       "            const result = {};\n",
       "            // Object.keys() is safer than \"for in\" because otherwise you might have keys\n",
       "            // that aren't defined in the object itself.\n",
       "            //\n",
       "            // See https://stackoverflow.com/a/684692/911298.\n",
       "            for (const item of Object.keys(map_or_text)) {\n",
       "                result[item] = eval_functions(map_or_text[item]);\n",
       "            }\n",
       "            return result;\n",
       "        }\n",
       "    }\n",
       "\n",
       "    return map_or_text;\n",
       "}\n",
       "\n",
       "</` + 'script>');"
      ],
      "text/plain": [
       "<IPython.core.display.Javascript object>"
      ]
     },
     "metadata": {},
     "output_type": "display_data"
    }
   ],
   "source": [
    "import pandas as pd                            # in many examples you'll see pandas shortened to pd\n",
    "\n",
    "\n",
    "from itables import init_notebook_mode         # itables is a python module that displays dataframes in jupyter\n",
    "init_notebook_mode(all_interactive=True)       # just got to do this once "
   ]
  },
  {
   "cell_type": "code",
   "execution_count": 6,
   "metadata": {
    "slideshow": {
     "slide_type": "fragment"
    }
   },
   "outputs": [
    {
     "data": {
      "text/html": [
       "<div><table id=\"018ab120-e51f-4aec-878d-e3c394d73a3b\" class=\"display\"><thead>\n",
       "    <tr style=\"text-align: right;\">\n",
       "      \n",
       "      <th>country</th>\n",
       "      <th>capital</th>\n",
       "      <th>area</th>\n",
       "      <th>population</th>\n",
       "    </tr>\n",
       "  </thead></table>\n",
       "<script type=\"text/javascript\">\n",
       "require([\"datatables\"], function (datatables) {\n",
       "    $(document).ready(function () {\n",
       "        var dt_args = {\"columnDefs\": [{\"width\": \"70px\", \"targets\": \"_all\"}], \"paging\": false, \"data\": [[\"Brazil\", \"Brasilia\", 8.516, 200.4], [\"Russia\", \"Moscow\", 17.1, 143.5], [\"India\", \"New Dehli\", 3.286, 1252.0], [\"China\", \"Beijing\", 9.597, 1357.0], [\"South Africa\", \"Pretoria\", 1.221, 52.98]]};\n",
       "        dt_args = eval_functions(dt_args);\n",
       "        table = $('#018ab120-e51f-4aec-878d-e3c394d73a3b').DataTable(dt_args);\n",
       "    });\n",
       "})\n",
       "</script>\n",
       "</div>\n"
      ],
      "text/plain": [
       "        country    capital    area  population\n",
       "0        Brazil   Brasilia   8.516      200.40\n",
       "1        Russia     Moscow  17.100      143.50\n",
       "2         India  New Dehli   3.286     1252.00\n",
       "3         China    Beijing   9.597     1357.00\n",
       "4  South Africa   Pretoria   1.221       52.98"
      ]
     },
     "execution_count": 6,
     "metadata": {},
     "output_type": "execute_result"
    }
   ],
   "source": [
    "d = {\n",
    "    \"country\":    [\"Brazil\", \"Russia\", \"India\", \"China\", \"South Africa\"],\n",
    "    \"capital\":    [\"Brasilia\", \"Moscow\", \"New Dehli\", \"Beijing\", \"Pretoria\"],\n",
    "    \"area\":       [8.516, 17.10, 3.286, 9.597, 1.221],\n",
    "    \"population\": [200.4, 143.5, 1252, 1357, 52.98] }\n",
    "\n",
    "df = pd.DataFrame(d)\n",
    "df # <- just outputting the dataframe tells jupyter to print the table below"
   ]
  },
  {
   "cell_type": "markdown",
   "metadata": {
    "slideshow": {
     "slide_type": "slide"
    }
   },
   "source": [
    "# Done\n",
    "\n",
    "Thanks for your time.  In this slideshow we covered the following topics\n",
    "\n",
    "- Basic intro to jupyter\n",
    "- Examples of cells and how they work\n",
    "- How to set up slideshows\n",
    "- How to display videos, tabular data"
   ]
  },
  {
   "cell_type": "code",
   "execution_count": null,
   "metadata": {},
   "outputs": [],
   "source": []
  }
 ],
 "metadata": {
  "celltoolbar": "Slideshow",
  "kernelspec": {
   "display_name": "Python 3",
   "language": "python",
   "name": "python3"
  },
  "language_info": {
   "codemirror_mode": {
    "name": "ipython",
    "version": 3
   },
   "file_extension": ".py",
   "mimetype": "text/x-python",
   "name": "python",
   "nbconvert_exporter": "python",
   "pygments_lexer": "ipython3",
   "version": "3.9.7"
  }
 },
 "nbformat": 4,
 "nbformat_minor": 4
}
