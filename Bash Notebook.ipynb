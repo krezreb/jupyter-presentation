{
 "cells": [
  {
   "cell_type": "code",
   "execution_count": 2,
   "id": "732ea498",
   "metadata": {},
   "outputs": [
    {
     "name": "stdout",
     "output_type": "stream",
     "text": [
      "1 little piggy4l\u001b[?2004l\n",
      "2 little piggies\u001b[?2004l\u001b[?2004l\n",
      "3 little piggies\n",
      "4 little piggies\n",
      "5 little piggies\n",
      "\u001b[?2004h"
     ]
    },
    {
     "ename": "",
     "evalue": "1",
     "output_type": "error",
     "traceback": []
    }
   ],
   "source": [
    "# this notebook is written in bash, no need for the %%sh\n",
    "\n",
    "echo 1 little piggy\n",
    "for i in $(seq 2 5); do\n",
    "    echo $i little piggies\n",
    "done\n",
    "\n"
   ]
  },
  {
   "cell_type": "code",
   "execution_count": null,
   "id": "b02522f0",
   "metadata": {},
   "outputs": [],
   "source": []
  }
 ],
 "metadata": {
  "celltoolbar": "Slideshow",
  "kernelspec": {
   "display_name": "Bash",
   "language": "bash",
   "name": "bash"
  },
  "language_info": {
   "codemirror_mode": "shell",
   "file_extension": ".sh",
   "mimetype": "text/x-sh",
   "name": "bash"
  }
 },
 "nbformat": 4,
 "nbformat_minor": 5
}
