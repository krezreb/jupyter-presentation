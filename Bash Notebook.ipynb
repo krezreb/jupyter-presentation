{
 "cells": [
  {
   "cell_type": "code",
   "execution_count": 2,
   "id": "732ea498",
   "metadata": {},
   "outputs": [
    {
     "name": "stdout",
     "output_type": "stream",
     "text": [
      "1 little pigs04l\u001b[?2004l\u001b[?2004l\u001b[?2004l\n",
      "2 little pigs\n",
      "3 little pigs\n",
      "4 little pigs\n",
      "5 little pigs\n",
      "\u001b[?2004h"
     ]
    },
    {
     "ename": "",
     "evalue": "1",
     "output_type": "error",
     "traceback": []
    }
   ],
   "source": [
    "# this notebook is written in bash\n",
    "\n",
    "for i in $(seq 1 5); do\n",
    "    echo $i little pigs\n",
    "done"
   ]
  },
  {
   "cell_type": "code",
   "execution_count": null,
   "id": "b02522f0",
   "metadata": {},
   "outputs": [],
   "source": []
  }
 ],
 "metadata": {
  "celltoolbar": "Slideshow",
  "kernelspec": {
   "display_name": "Bash",
   "language": "bash",
   "name": "bash"
  },
  "language_info": {
   "codemirror_mode": "shell",
   "file_extension": ".sh",
   "mimetype": "text/x-sh",
   "name": "bash"
  }
 },
 "nbformat": 4,
 "nbformat_minor": 5
}
